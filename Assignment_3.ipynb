{
  "nbformat": 4,
  "nbformat_minor": 0,
  "metadata": {
    "colab": {
      "provenance": []
    },
    "kernelspec": {
      "name": "python3",
      "display_name": "Python 3"
    },
    "language_info": {
      "name": "python"
    }
  },
  "cells": [
    {
      "cell_type": "code",
      "source": [
        "from google.colab import files\n",
        "\n",
        "uploaded = files.upload()"
      ],
      "metadata": {
        "colab": {
          "base_uri": "https://localhost:8080/",
          "height": 142
        },
        "id": "KrRy06xZD0YK",
        "outputId": "16b27c3f-1c7a-44d1-8487-d47e5e5d72bd"
      },
      "execution_count": null,
      "outputs": [
        {
          "output_type": "display_data",
          "data": {
            "text/plain": [
              "<IPython.core.display.HTML object>"
            ],
            "text/html": [
              "\n",
              "     <input type=\"file\" id=\"files-fc39866a-edf6-4382-b33d-77c225cec23b\" name=\"files[]\" multiple disabled\n",
              "        style=\"border:none\" />\n",
              "     <output id=\"result-fc39866a-edf6-4382-b33d-77c225cec23b\">\n",
              "      Upload widget is only available when the cell has been executed in the\n",
              "      current browser session. Please rerun this cell to enable.\n",
              "      </output>\n",
              "      <script>// Copyright 2017 Google LLC\n",
              "//\n",
              "// Licensed under the Apache License, Version 2.0 (the \"License\");\n",
              "// you may not use this file except in compliance with the License.\n",
              "// You may obtain a copy of the License at\n",
              "//\n",
              "//      http://www.apache.org/licenses/LICENSE-2.0\n",
              "//\n",
              "// Unless required by applicable law or agreed to in writing, software\n",
              "// distributed under the License is distributed on an \"AS IS\" BASIS,\n",
              "// WITHOUT WARRANTIES OR CONDITIONS OF ANY KIND, either express or implied.\n",
              "// See the License for the specific language governing permissions and\n",
              "// limitations under the License.\n",
              "\n",
              "/**\n",
              " * @fileoverview Helpers for google.colab Python module.\n",
              " */\n",
              "(function(scope) {\n",
              "function span(text, styleAttributes = {}) {\n",
              "  const element = document.createElement('span');\n",
              "  element.textContent = text;\n",
              "  for (const key of Object.keys(styleAttributes)) {\n",
              "    element.style[key] = styleAttributes[key];\n",
              "  }\n",
              "  return element;\n",
              "}\n",
              "\n",
              "// Max number of bytes which will be uploaded at a time.\n",
              "const MAX_PAYLOAD_SIZE = 100 * 1024;\n",
              "\n",
              "function _uploadFiles(inputId, outputId) {\n",
              "  const steps = uploadFilesStep(inputId, outputId);\n",
              "  const outputElement = document.getElementById(outputId);\n",
              "  // Cache steps on the outputElement to make it available for the next call\n",
              "  // to uploadFilesContinue from Python.\n",
              "  outputElement.steps = steps;\n",
              "\n",
              "  return _uploadFilesContinue(outputId);\n",
              "}\n",
              "\n",
              "// This is roughly an async generator (not supported in the browser yet),\n",
              "// where there are multiple asynchronous steps and the Python side is going\n",
              "// to poll for completion of each step.\n",
              "// This uses a Promise to block the python side on completion of each step,\n",
              "// then passes the result of the previous step as the input to the next step.\n",
              "function _uploadFilesContinue(outputId) {\n",
              "  const outputElement = document.getElementById(outputId);\n",
              "  const steps = outputElement.steps;\n",
              "\n",
              "  const next = steps.next(outputElement.lastPromiseValue);\n",
              "  return Promise.resolve(next.value.promise).then((value) => {\n",
              "    // Cache the last promise value to make it available to the next\n",
              "    // step of the generator.\n",
              "    outputElement.lastPromiseValue = value;\n",
              "    return next.value.response;\n",
              "  });\n",
              "}\n",
              "\n",
              "/**\n",
              " * Generator function which is called between each async step of the upload\n",
              " * process.\n",
              " * @param {string} inputId Element ID of the input file picker element.\n",
              " * @param {string} outputId Element ID of the output display.\n",
              " * @return {!Iterable<!Object>} Iterable of next steps.\n",
              " */\n",
              "function* uploadFilesStep(inputId, outputId) {\n",
              "  const inputElement = document.getElementById(inputId);\n",
              "  inputElement.disabled = false;\n",
              "\n",
              "  const outputElement = document.getElementById(outputId);\n",
              "  outputElement.innerHTML = '';\n",
              "\n",
              "  const pickedPromise = new Promise((resolve) => {\n",
              "    inputElement.addEventListener('change', (e) => {\n",
              "      resolve(e.target.files);\n",
              "    });\n",
              "  });\n",
              "\n",
              "  const cancel = document.createElement('button');\n",
              "  inputElement.parentElement.appendChild(cancel);\n",
              "  cancel.textContent = 'Cancel upload';\n",
              "  const cancelPromise = new Promise((resolve) => {\n",
              "    cancel.onclick = () => {\n",
              "      resolve(null);\n",
              "    };\n",
              "  });\n",
              "\n",
              "  // Wait for the user to pick the files.\n",
              "  const files = yield {\n",
              "    promise: Promise.race([pickedPromise, cancelPromise]),\n",
              "    response: {\n",
              "      action: 'starting',\n",
              "    }\n",
              "  };\n",
              "\n",
              "  cancel.remove();\n",
              "\n",
              "  // Disable the input element since further picks are not allowed.\n",
              "  inputElement.disabled = true;\n",
              "\n",
              "  if (!files) {\n",
              "    return {\n",
              "      response: {\n",
              "        action: 'complete',\n",
              "      }\n",
              "    };\n",
              "  }\n",
              "\n",
              "  for (const file of files) {\n",
              "    const li = document.createElement('li');\n",
              "    li.append(span(file.name, {fontWeight: 'bold'}));\n",
              "    li.append(span(\n",
              "        `(${file.type || 'n/a'}) - ${file.size} bytes, ` +\n",
              "        `last modified: ${\n",
              "            file.lastModifiedDate ? file.lastModifiedDate.toLocaleDateString() :\n",
              "                                    'n/a'} - `));\n",
              "    const percent = span('0% done');\n",
              "    li.appendChild(percent);\n",
              "\n",
              "    outputElement.appendChild(li);\n",
              "\n",
              "    const fileDataPromise = new Promise((resolve) => {\n",
              "      const reader = new FileReader();\n",
              "      reader.onload = (e) => {\n",
              "        resolve(e.target.result);\n",
              "      };\n",
              "      reader.readAsArrayBuffer(file);\n",
              "    });\n",
              "    // Wait for the data to be ready.\n",
              "    let fileData = yield {\n",
              "      promise: fileDataPromise,\n",
              "      response: {\n",
              "        action: 'continue',\n",
              "      }\n",
              "    };\n",
              "\n",
              "    // Use a chunked sending to avoid message size limits. See b/62115660.\n",
              "    let position = 0;\n",
              "    do {\n",
              "      const length = Math.min(fileData.byteLength - position, MAX_PAYLOAD_SIZE);\n",
              "      const chunk = new Uint8Array(fileData, position, length);\n",
              "      position += length;\n",
              "\n",
              "      const base64 = btoa(String.fromCharCode.apply(null, chunk));\n",
              "      yield {\n",
              "        response: {\n",
              "          action: 'append',\n",
              "          file: file.name,\n",
              "          data: base64,\n",
              "        },\n",
              "      };\n",
              "\n",
              "      let percentDone = fileData.byteLength === 0 ?\n",
              "          100 :\n",
              "          Math.round((position / fileData.byteLength) * 100);\n",
              "      percent.textContent = `${percentDone}% done`;\n",
              "\n",
              "    } while (position < fileData.byteLength);\n",
              "  }\n",
              "\n",
              "  // All done.\n",
              "  yield {\n",
              "    response: {\n",
              "      action: 'complete',\n",
              "    }\n",
              "  };\n",
              "}\n",
              "\n",
              "scope.google = scope.google || {};\n",
              "scope.google.colab = scope.google.colab || {};\n",
              "scope.google.colab._files = {\n",
              "  _uploadFiles,\n",
              "  _uploadFilesContinue,\n",
              "};\n",
              "})(self);\n",
              "</script> "
            ]
          },
          "metadata": {}
        },
        {
          "output_type": "stream",
          "name": "stdout",
          "text": [
            "Saving test.txt to test (1).txt\n",
            "Saving train.txt to train (1).txt\n",
            "Saving val.txt to val (1).txt\n"
          ]
        }
      ]
    },
    {
      "cell_type": "code",
      "source": [
        "import numpy as np\n",
        "import pandas as pd\n",
        "import torch\n",
        "from torch.utils.data import Dataset, DataLoader\n",
        "from collections import Counter\n",
        "from nltk.tokenize import word_tokenize\n",
        "import torch.nn as nn\n",
        "import torch.optim as optim\n",
        "from google.colab import files"
      ],
      "metadata": {
        "id": "nKdBXTuVD1lP"
      },
      "execution_count": 29,
      "outputs": []
    },
    {
      "cell_type": "code",
      "source": [
        "# Read the dataset\n",
        "with open('train.txt', 'r') as file:\n",
        "    train_sentences = file.readlines()\n",
        "\n",
        "with open('val.txt', 'r') as file:\n",
        "    val_sentences = file.readlines()\n",
        "\n",
        "with open('test.txt', 'r') as file:\n",
        "    test_sentences = file.readlines()"
      ],
      "metadata": {
        "id": "1DsaQMnUD6TY"
      },
      "execution_count": 30,
      "outputs": []
    },
    {
      "cell_type": "code",
      "source": [
        "# Preprocessing: Tokenizing, clipping sentences, and adding EOL padding\n",
        "MAX_LENGTH = 20\n",
        "EOL = \"<eol>\"\n",
        "\n",
        "def preprocess_sentences(sentences):\n",
        "    processed_sentences = []\n",
        "    for sentence in sentences:\n",
        "        words = word_tokenize(sentence.lower())  # Tokenize and lowercase\n",
        "        # Clip to 20 words, add EOL if needed\n",
        "        if len(words) > MAX_LENGTH:\n",
        "            words = words[:MAX_LENGTH]\n",
        "        elif len(words) < MAX_LENGTH:\n",
        "            words += [EOL] * (MAX_LENGTH - len(words))\n",
        "        processed_sentences.append(words)\n",
        "    return processed_sentences\n",
        "\n",
        "train_sentences = preprocess_sentences(train_sentences)\n",
        "val_sentences = preprocess_sentences(val_sentences)\n",
        "test_sentences = preprocess_sentences(test_sentences)"
      ],
      "metadata": {
        "id": "kADs5M4HUKof"
      },
      "execution_count": 31,
      "outputs": []
    },
    {
      "cell_type": "code",
      "source": [
        "# Prepare vocabulary\n",
        "# Combine all sentences from training, validation, and test sets\n",
        "all_sentences = train_sentences + val_sentences + test_sentences\n",
        "vocab = set([word for sentence in all_sentences for word in sentence])\n",
        "\n",
        "word_to_index = {word: idx for idx, word in enumerate(vocab)}\n",
        "index_to_word = {idx: word for word, idx in word_to_index.items()}"
      ],
      "metadata": {
        "id": "99ihwmskUNgd"
      },
      "execution_count": 32,
      "outputs": []
    },
    {
      "cell_type": "code",
      "source": [
        "# Create a dataset class\n",
        "class NextWordPredictionDataset(Dataset):\n",
        "    def __init__(self, sentences, word_to_index):\n",
        "        self.sentences = sentences\n",
        "        self.word_to_index = word_to_index\n",
        "\n",
        "    def __len__(self):\n",
        "        return len(self.sentences)\n",
        "\n",
        "    def __getitem__(self, idx):\n",
        "        sentence = self.sentences[idx]\n",
        "        input_sequence = [self.word_to_index[word] for word in sentence[:-1]]\n",
        "        target_sequence = [self.word_to_index[word] for word in sentence[1:]]\n",
        "        return torch.tensor(input_sequence), torch.tensor(target_sequence)\n",
        "\n",
        "train_dataset = NextWordPredictionDataset(train_sentences, word_to_index)\n",
        "train_loader = DataLoader(train_dataset, batch_size=32, shuffle=True)\n",
        "\n",
        "val_dataset = NextWordPredictionDataset(val_sentences, word_to_index)\n",
        "val_loader = DataLoader(val_dataset, batch_size=32, shuffle=False)\n",
        "\n",
        "test_dataset = NextWordPredictionDataset(test_sentences, word_to_index)\n",
        "test_loader = DataLoader(test_dataset, batch_size=32, shuffle=False)"
      ],
      "metadata": {
        "id": "1es0q781UPyv"
      },
      "execution_count": 33,
      "outputs": []
    },
    {
      "cell_type": "code",
      "source": [
        "# Building the LSTM model\n",
        "class LSTMModel(nn.Module):\n",
        "    def __init__(self, vocab_size, embedding_dim, hidden_dim, num_layers):\n",
        "        super(LSTMModel, self).__init__()\n",
        "        self.embedding = nn.Embedding(vocab_size, embedding_dim)  # Simple embedding layer\n",
        "        self.lstm = nn.LSTM(embedding_dim, hidden_dim, num_layers, batch_first=True)\n",
        "        self.fc = nn.Linear(hidden_dim, vocab_size)\n",
        "\n",
        "    def forward(self, x):\n",
        "        x = self.embedding(x)\n",
        "        lstm_out, _ = self.lstm(x)\n",
        "        logits = self.fc(lstm_out)\n",
        "        return logits"
      ],
      "metadata": {
        "id": "3MEXVt6vUS9O"
      },
      "execution_count": 34,
      "outputs": []
    },
    {
      "cell_type": "code",
      "source": [
        "# Set parameters\n",
        "embedding_dim = 100\n",
        "hidden_dim = 128\n",
        "num_layers = 2\n",
        "vocab_size = len(word_to_index)\n",
        "\n",
        "# Initialize model\n",
        "model = LSTMModel(vocab_size, embedding_dim, hidden_dim, num_layers)\n",
        "\n",
        "# Loss and Optimizer\n",
        "criterion = nn.CrossEntropyLoss()\n",
        "optimizer = optim.Adam(model.parameters(), lr=0.001)"
      ],
      "metadata": {
        "id": "F4eEtZ1lUVZI"
      },
      "execution_count": 35,
      "outputs": []
    },
    {
      "cell_type": "code",
      "source": [
        "# Training the model\n",
        "def train_model(model, train_loader, val_loader, num_epochs=10):\n",
        "    for epoch in range(num_epochs):\n",
        "        model.train()\n",
        "        total_loss = 0\n",
        "        for inputs, targets in train_loader:\n",
        "            # If no GPU, remove or comment out the following line:\n",
        "            # inputs, targets = inputs.cuda(), targets.cuda()\n",
        "\n",
        "            optimizer.zero_grad()\n",
        "            output = model(inputs)\n",
        "\n",
        "            # Reshape output and targets for the loss function\n",
        "            output = output.view(-1, vocab_size)\n",
        "            targets = targets.view(-1)\n",
        "\n",
        "            loss = criterion(output, targets)\n",
        "            loss.backward()\n",
        "            optimizer.step()\n",
        "\n",
        "            total_loss += loss.item()\n",
        "\n",
        "        # Print epoch loss\n",
        "        print(f'Epoch {epoch + 1}, Loss: {total_loss / len(train_loader)}')\n",
        "\n",
        "        # Validation step\n",
        "        model.eval()\n",
        "        val_loss = 0\n",
        "        with torch.no_grad():\n",
        "            for inputs, targets in val_loader:\n",
        "                # If no GPU, remove or comment out the following line:\n",
        "                # inputs, targets = inputs.cuda(), targets.cuda()\n",
        "                output = model(inputs)\n",
        "                output = output.view(-1, vocab_size)\n",
        "                targets = targets.view(-1)\n",
        "                val_loss += criterion(output, targets).item()\n",
        "        print(f'Validation Loss: {val_loss / len(val_loader)}')"
      ],
      "metadata": {
        "id": "caUu7E-MKGDf"
      },
      "execution_count": 36,
      "outputs": []
    },
    {
      "cell_type": "code",
      "source": [
        "# Start training\n",
        "train_model(model, train_loader, val_loader)"
      ],
      "metadata": {
        "colab": {
          "base_uri": "https://localhost:8080/"
        },
        "id": "4RBYHynmK_1F",
        "outputId": "92f7483b-244f-4542-d675-e5836f8ad9a3"
      },
      "execution_count": 26,
      "outputs": [
        {
          "output_type": "stream",
          "name": "stdout",
          "text": [
            "Epoch 1, Loss: 5.136407536506653\n",
            "Validation Loss: 4.634415581112816\n",
            "Epoch 2, Loss: 4.4130806627273556\n",
            "Validation Loss: 4.327412760446942\n",
            "Epoch 3, Loss: 4.156963615894318\n",
            "Validation Loss: 4.199228025618053\n",
            "Epoch 4, Loss: 4.011617884635926\n",
            "Validation Loss: 4.133322628717574\n",
            "Epoch 5, Loss: 3.905031321525574\n",
            "Validation Loss: 4.095317378876701\n",
            "Epoch 6, Loss: 3.8162808027267454\n",
            "Validation Loss: 4.073888983045306\n",
            "Epoch 7, Loss: 3.7375731387138367\n",
            "Validation Loss: 4.063295814726088\n",
            "Epoch 8, Loss: 3.6646124806404115\n",
            "Validation Loss: 4.069407330618964\n",
            "Epoch 9, Loss: 3.595582187652588\n",
            "Validation Loss: 4.065436196705652\n",
            "Epoch 10, Loss: 3.527846902370453\n",
            "Validation Loss: 4.075001311680627\n"
          ]
        }
      ]
    },
    {
      "cell_type": "code",
      "source": [
        "# Predicting next word in the sentence\n",
        "def predict_next_word(model, sentence, word_to_index, index_to_word, max_length=20):\n",
        "    model.eval()\n",
        "    words = word_tokenize(sentence.lower())\n",
        "    while len(words) < max_length:\n",
        "        input_sequence = [word_to_index.get(word, word_to_index[EOL]) for word in words[-(max_length-1):]]\n",
        "        # Instead of using cuda, use cpu\n",
        "        input_sequence = torch.tensor(input_sequence).unsqueeze(0).cpu() # Changed .cuda() to .cpu()\n",
        "\n",
        "        with torch.no_grad():\n",
        "            output = model(input_sequence)\n",
        "\n",
        "        # Ensure output is on CPU before accessing elements\n",
        "        predicted_word_idx = output.cpu().argmax(dim=2)[0, -1].item() # Added .cpu()\n",
        "        predicted_word = index_to_word[predicted_word_idx]\n",
        "\n",
        "        if predicted_word == EOL:\n",
        "            break\n",
        "\n",
        "        words.append(predicted_word)\n",
        "\n",
        "    return ' '.join(words)"
      ],
      "metadata": {
        "id": "rFnb1AYdD-Po"
      },
      "execution_count": 37,
      "outputs": []
    },
    {
      "cell_type": "code",
      "source": [
        "# Test the model on partial sentences\n",
        "partial_sentence = \"I drink tea\"\n",
        "predicted_sentence = predict_next_word(model, partial_sentence, word_to_index, index_to_word)\n",
        "print(predicted_sentence)"
      ],
      "metadata": {
        "id": "FAOGmVljU9RN",
        "colab": {
          "base_uri": "https://localhost:8080/"
        },
        "outputId": "b610d925-3e30-4d97-fb1c-52ee1f800431"
      },
      "execution_count": 38,
      "outputs": [
        {
          "output_type": "stream",
          "name": "stdout",
          "text": [
            "i drink tea barely entertainments contributions contributions catholic unhealthy cu cu arguments pollicino pollicino zombie zombie hurtled gripped quest haggle\n"
          ]
        }
      ]
    }
  ]
}